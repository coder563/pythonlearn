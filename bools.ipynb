{
 "cells": [
  {
   "cell_type": "code",
   "execution_count": null,
   "metadata": {},
   "outputs": [],
   "source": [
    "x = bool(True)\n",
    "y = int()\n",
    "issubclass(bool,int)\n",
    "\n",
    "help(bool)"
   ]
  },
  {
   "cell_type": "code",
   "execution_count": 17,
   "metadata": {},
   "outputs": [
    {
     "name": "stderr",
     "output_type": "stream",
     "text": [
      "<>:5: SyntaxWarning: \"is\" with a literal. Did you mean \"==\"?\n",
      "<>:5: SyntaxWarning: \"is\" with a literal. Did you mean \"==\"?\n",
      "C:\\Users\\nacmarat\\AppData\\Local\\Temp\\ipykernel_24964\\1212930616.py:5: SyntaxWarning: \"is\" with a literal. Did you mean \"==\"?\n",
      "  True is 1\n"
     ]
    },
    {
     "data": {
      "text/plain": [
       "140716579480360"
      ]
     },
     "execution_count": 17,
     "metadata": {},
     "output_type": "execute_result"
    }
   ],
   "source": [
    "True == True\n",
    "\n",
    "True == 1\n",
    "\n",
    "True is 1\n",
    "\n",
    "id(True)\n",
    "\n",
    "\n",
    "id(1)\n",
    "\n",
    "\n",
    "\n"
   ]
  },
  {
   "cell_type": "code",
   "execution_count": 15,
   "metadata": {},
   "outputs": [
    {
     "data": {
      "text/plain": [
       "140716577954664"
      ]
     },
     "execution_count": 15,
     "metadata": {},
     "output_type": "execute_result"
    }
   ],
   "source": [
    "id(True)"
   ]
  },
  {
   "cell_type": "code",
   "execution_count": 25,
   "metadata": {},
   "outputs": [
    {
     "name": "stdout",
     "output_type": "stream",
     "text": [
      "\n"
     ]
    },
    {
     "data": {
      "text/plain": [
       "0"
      ]
     },
     "execution_count": 25,
     "metadata": {},
     "output_type": "execute_result"
    }
   ],
   "source": [
    "bool(100), (100).__bool__()\n",
    "\n",
    "x = str(\"\")\n",
    "\n",
    "print(x)\n",
    "\n",
    "x.__len__()"
   ]
  },
  {
   "cell_type": "code",
   "execution_count": 30,
   "metadata": {},
   "outputs": [
    {
     "data": {
      "text/plain": [
       "True"
      ]
     },
     "execution_count": 30,
     "metadata": {},
     "output_type": "execute_result"
    }
   ],
   "source": [
    "from decimal import Decimal\n",
    "bool(4.1)\n",
    "x = Decimal(5.6)\n",
    "bool(x)"
   ]
  },
  {
   "cell_type": "code",
   "execution_count": 46,
   "metadata": {},
   "outputs": [
    {
     "data": {
      "text/plain": [
       "(140716578008264, 140716578008264)"
      ]
     },
     "execution_count": 46,
     "metadata": {},
     "output_type": "execute_result"
    }
   ],
   "source": [
    "from fractions import Fraction\n",
    "\n",
    "X = Fraction(0,30)\n",
    "\n",
    " \n",
    "\n",
    "c = ()\n",
    "\n",
    "bool(c)\n",
    "\n",
    "\n",
    "a = {1,3}\n",
    "\n",
    "b = {2:3}\n",
    "\n",
    "\n",
    "bool(a), bool(b) , bool(None)\n",
    "x = None\n",
    "len(a)\n",
    "id(None), id(x)\n"
   ]
  },
  {
   "cell_type": "code",
   "execution_count": 50,
   "metadata": {},
   "outputs": [
    {
     "data": {
      "text/plain": [
       "'a is 30, b is 20, c is 10'"
      ]
     },
     "execution_count": 50,
     "metadata": {},
     "output_type": "execute_result"
    }
   ],
   "source": [
    "def my_func(a, b, c):\n",
    "   return f\"a is {a}, b is {b}, c is {c}\"\n",
    "\n",
    "\n",
    "\n",
    "my_func(30,c=10,b=20, )"
   ]
  },
  {
   "cell_type": "code",
   "execution_count": 69,
   "metadata": {},
   "outputs": [
    {
     "data": {
      "text/plain": [
       "tuple"
      ]
     },
     "execution_count": 69,
     "metadata": {},
     "output_type": "execute_result"
    }
   ],
   "source": [
    "j=(a, b , c) = (45.66 ,65, 'Wah')\n",
    "\n",
    "##print(a, b, c)\n",
    "\n",
    "\n",
    "\n",
    "\n",
    "\n",
    "type((j))"
   ]
  },
  {
   "cell_type": "code",
   "execution_count": 75,
   "metadata": {},
   "outputs": [
    {
     "name": "stdout",
     "output_type": "stream",
     "text": [
      "9 4 6\n"
     ]
    }
   ],
   "source": [
    "a,b, c = {4, 6, 9}\n",
    "\n",
    "print(a, b, c )"
   ]
  },
  {
   "cell_type": "code",
   "execution_count": 79,
   "metadata": {},
   "outputs": [
    {
     "data": {
      "text/plain": [
       "True"
      ]
     },
     "execution_count": 79,
     "metadata": {},
     "output_type": "execute_result"
    }
   ],
   "source": [
    "callable(issubclass)"
   ]
  },
  {
   "cell_type": "code",
   "execution_count": 82,
   "metadata": {},
   "outputs": [
    {
     "name": "stdout",
     "output_type": "stream",
     "text": [
      "True\n",
      "DUDE\n"
     ]
    }
   ],
   "source": [
    "val = callable('hell'.upper)\n",
    "print(val)\n",
    "print('dUDE'.upper())"
   ]
  },
  {
   "cell_type": "code",
   "execution_count": 100,
   "metadata": {},
   "outputs": [
    {
     "name": "stdout",
     "output_type": "stream",
     "text": [
      "[60, 69]\n",
      "40 50 ([60, 69],)\n",
      "<class 'tuple'>\n"
     ]
    }
   ],
   "source": [
    "def newfunc(a, b, *c):\n",
    "    print(a, b, c)\n",
    "    print(type(c))\n",
    "\n",
    "a , b, *c = 40, 50, 60, 69\n",
    "print(c)\n",
    "newfunc(a, b, c)\n",
    "\n",
    " "
   ]
  },
  {
   "cell_type": "code",
   "execution_count": 99,
   "metadata": {},
   "outputs": [
    {
     "name": "stdout",
     "output_type": "stream",
     "text": [
      "1\n",
      "<class 'int'>\n",
      "2\n",
      "<class 'int'>\n",
      "[3, 4]\n",
      "<class 'list'>\n",
      "5\n",
      "<class 'int'>\n"
     ]
    }
   ],
   "source": [
    "a, b, c, d = 1, 2, [3,4]  , 5\n",
    " \n",
    "for item in a, b,c, d:\n",
    "     print(item)\n",
    "     print(type(item))\n",
    " \n",
    " "
   ]
  },
  {
   "cell_type": "code",
   "execution_count": 92,
   "metadata": {},
   "outputs": [],
   "source": [
    "c, d = [3, 4]"
   ]
  },
  {
   "cell_type": "code",
   "execution_count": 102,
   "metadata": {},
   "outputs": [
    {
     "name": "stdout",
     "output_type": "stream",
     "text": [
      "<class 'tuple'>\n",
      "[2, 3, 4, 5] <class 'list'>\n"
     ]
    }
   ],
   "source": [
    "tpl  = 1,2,3,4,5, 6 \n",
    "print(type(tpl))\n",
    "\n",
    "a, *b, c = tpl\n",
    "\n",
    "print(b,type(b))"
   ]
  },
  {
   "cell_type": "code",
   "execution_count": 104,
   "metadata": {},
   "outputs": [
    {
     "name": "stdout",
     "output_type": "stream",
     "text": [
      "X YZA\n"
     ]
    }
   ],
   "source": [
    "str = 'XYZA'\n",
    "\n",
    "a, b = str[0], str[1:]\n",
    "\n",
    "\n",
    "print(a, b)\n"
   ]
  },
  {
   "cell_type": "code",
   "execution_count": 127,
   "metadata": {},
   "outputs": [
    {
     "name": "stdout",
     "output_type": "stream",
     "text": [
      "[6, 7] <class 'list'>\n",
      "sype of str  <class 'str'>\n"
     ]
    },
    {
     "ename": "",
     "evalue": "",
     "output_type": "error",
     "traceback": [
      "\u001b[1;31mThe Kernel crashed while executing code in the the current cell or a previous cell. Please review the code in the cell(s) to identify a possible cause of the failure. Click <a href='https://aka.ms/vscodeJupyterKernelCrash'>here</a> for more info. View Jupyter <a href='command:jupyter.viewOutput'>log</a> for further details."
     ]
    }
   ],
   "source": [
    "import inspect\n",
    "from collections.abc import Iterable, Sequence\n",
    "a, *b, (c, *d), e = 4, 5, {6,8,7}, 9 \n",
    "\n",
    " \n",
    "print(d, type(d))\n",
    "\n",
    "\n",
    "str = 'ABCD'\n",
    "print('sype of str ',type(str))\n"
   ]
  },
  {
   "cell_type": "code",
   "execution_count": 1,
   "metadata": {},
   "outputs": [
    {
     "data": {
      "text/plain": [
       "'Hello Hi there'"
      ]
     },
     "execution_count": 1,
     "metadata": {},
     "output_type": "execute_result"
    }
   ],
   "source": [
    "print = lambda x: f'Hello {x}'\n",
    "\n",
    "\n",
    "response = print(\"Hi there\")\n",
    "\n",
    "\n",
    "response"
   ]
  },
  {
   "cell_type": "code",
   "execution_count": 10,
   "metadata": {},
   "outputs": [
    {
     "name": "stdout",
     "output_type": "stream",
     "text": [
      "William\n",
      "['Travis', 'Akash']\n",
      "40   [0, 8892, 939]   2\n"
     ]
    }
   ],
   "source": [
    "name_dict = {'William':30, \"Travis\":20, \"Akash\":44}\n",
    "\n",
    "a,  *b = name_dict\n",
    "\n",
    "print(a)\n",
    "print(b)\n",
    "\n",
    " \n",
    " \n",
    "\n",
    "\n",
    "x = (40, 2, 00, 8892, 939)\n",
    "\n",
    "a, c,*b  = x\n",
    "\n",
    "print(a, \" \", b, \" \", c)\n",
    "\n",
    "\n"
   ]
  },
  {
   "cell_type": "code",
   "execution_count": null,
   "metadata": {},
   "outputs": [],
   "source": [
    "X ='This Is A Fantastic World'\n",
    "\n",
    "for i in X:\n",
    "    print(i)"
   ]
  },
  {
   "cell_type": "code",
   "execution_count": 14,
   "metadata": {},
   "outputs": [
    {
     "name": "stdout",
     "output_type": "stream",
     "text": [
      "4\n",
      "[5, 3, 99]\n",
      "9902\n"
     ]
    }
   ],
   "source": [
    "mylist = (4, 5, 3 ,99, 9902)\n",
    "\n",
    "\n",
    "a, *b, c = mylist\n",
    "\n",
    "\n",
    "print(a)\n",
    "print(b)\n",
    "print(c)"
   ]
  },
  {
   "cell_type": "code",
   "execution_count": 18,
   "metadata": {},
   "outputs": [
    {
     "name": "stdout",
     "output_type": "stream",
     "text": [
      "File Opened\n",
      "An exception occured\n",
      "File Closed\n"
     ]
    }
   ],
   "source": [
    "try:\n",
    "    print(\"File Opened\")\n",
    "    f = open(\"myfile\", \"w\")\n",
    "    10/0\n",
    "except:\n",
    "    print(\"An exception occured\")\n",
    "finally:\n",
    "    f.close()\n",
    "    print(\"File Closed\")\n"
   ]
  },
  {
   "cell_type": "code",
   "execution_count": 25,
   "metadata": {},
   "outputs": [
    {
     "name": "stdout",
     "output_type": "stream",
     "text": [
      "4\n",
      "Is file closed ?  False\n",
      "Is f closed ?  True\n"
     ]
    }
   ],
   "source": [
    "def checkfile(a: 'first name'):\n",
    "    print(a)\n",
    "    with open(\"fila1\",\"w\") as file:\n",
    "        print(\"Is file closed ? \", file.closed)\n",
    "        return file\n",
    "    print(\"Is file closed ? \", file.closed)\n",
    "    \n",
    "    \n",
    "\n",
    "\n",
    "f = checkfile(4)\n",
    "print(\"Is f closed ? \", f.closed)\n",
    "\n",
    "\n",
    "\n"
   ]
  },
  {
   "cell_type": "code",
   "execution_count": 27,
   "metadata": {},
   "outputs": [
    {
     "name": "stdout",
     "output_type": "stream",
     "text": [
      "{'a': 'first param', 'b': <class 'str'>}\n",
      "This is a beautiful fucntion that\n",
      "    was writen to do great stuff\n",
      "    \n",
      "    \n",
      "    \n",
      "4 88 2 () {'d': 22, 'j': 39, 'k': 33, 'l': 22}\n"
     ]
    }
   ],
   "source": [
    "def myfun(a:'first param', b:str =10, c=2, *args, **d):\n",
    "    '''This is a beautiful fucntion that\n",
    "    was writen to do great stuff\n",
    "    \n",
    "    \n",
    "    '''\n",
    "    print(a,b,c,args,d)\n",
    "\n",
    "print(myfun.__annotations__)\n",
    "print(myfun.__doc__)\n",
    "\n",
    "myfun(4,88,d=22,j=39,k=33,l=22)"
   ]
  },
  {
   "cell_type": "code",
   "execution_count": 48,
   "metadata": {},
   "outputs": [
    {
     "name": "stdout",
     "output_type": "stream",
     "text": [
      "(3, 'a')\n",
      "(4, 'b')\n",
      "(5, 'c')\n",
      "(9, 'd')\n",
      "[4, 2, 29, 33, 4, 2, 29, 33]\n"
     ]
    }
   ],
   "source": [
    "import itertools as it\n",
    "\n",
    "\n",
    "it1 = iter([3, 4, 5, 9])\n",
    "it2 = iter([\"a\",\"b\",\"c\",\"d\", 3, 291, 887])\n",
    "#print(it1.__next__())\n",
    "\n",
    "#print(it2.__next__())\n",
    "\n",
    "\n",
    "#list(zip(it1, it2, strict=False))\n",
    "\n",
    "for item in zip(it1, it2, strict=False):\n",
    "    print(item)\n",
    "\n",
    "    list()\n",
    "\n",
    "l1 =[4, 2, 29, 33] *2 \n",
    "\n",
    "\n",
    "\n",
    "#, y = l1* 2\n",
    "\n",
    "#print(f'X list = {x} Y list = {y}')\n",
    "\n",
    "\n",
    "print(l1, )\n"
   ]
  },
  {
   "cell_type": "code",
   "execution_count": 49,
   "metadata": {},
   "outputs": [
    {
     "name": "stdout",
     "output_type": "stream",
     "text": [
      "grapes\n",
      "apples\n",
      "pear\n",
      "watermelon\n"
     ]
    }
   ],
   "source": [
    "fruits = {'apples','pear','watermelon','grapes'}\n",
    "\n",
    "for fruit in fruits:\n",
    "    print(fruit)\n",
    "\n",
    "\n",
    "\n",
    "class Repeater():\n",
    "    def __init__(self, value) -> None:\n",
    "        self.value = value\n",
    "\n",
    "    def __iter_(self):\n",
    "        pass\n",
    "\n",
    "    def __next(self):\n",
    "        pass\n",
    "\n",
    "\n",
    "\n",
    "r = Repeater()\n"
   ]
  },
  {
   "cell_type": "code",
   "execution_count": 6,
   "metadata": {},
   "outputs": [],
   "source": [
    "\n",
    "with open('file',\"a\") as f:\n",
    "    print(1,2,3, sep=\"__\",file=f)\n",
    "    print(4,5,6, sep=\"+++\",end=\"%\",file=f)\n",
    "    \n"
   ]
  },
  {
   "cell_type": "code",
   "execution_count": 15,
   "metadata": {},
   "outputs": [
    {
     "data": {
      "text/plain": [
       "True"
      ]
     },
     "execution_count": 15,
     "metadata": {},
     "output_type": "execute_result"
    }
   ],
   "source": [
    " \n",
    "import calendar  \n",
    "import types\n",
    " \n",
    "\n",
    "isinstance(calendar,types.ModuleType)\n",
    "\n",
    "\n",
    "\n"
   ]
  }
 ],
 "metadata": {
  "kernelspec": {
   "display_name": "Python 3",
   "language": "python",
   "name": "python3"
  },
  "language_info": {
   "codemirror_mode": {
    "name": "ipython",
    "version": 3
   },
   "file_extension": ".py",
   "mimetype": "text/x-python",
   "name": "python",
   "nbconvert_exporter": "python",
   "pygments_lexer": "ipython3",
   "version": "3.11.5"
  },
  "orig_nbformat": 4
 },
 "nbformat": 4,
 "nbformat_minor": 2
}
