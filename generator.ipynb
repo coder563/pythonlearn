{
 "cells": [
  {
   "cell_type": "code",
   "execution_count": null,
   "metadata": {},
   "outputs": [],
   "source": [
    "def generator():\n",
    "    yield \"This is the first yield\"\n",
    "    yield \"This is the 2nd yield\"\n",
    "    yield \"This is the 3rd yield\"\n",
    "    yield \"This is the 4th yield\"\n",
    "\n",
    "\n",
    "\n",
    "\n",
    "\n",
    "mygen = gnerator()\n",
    "\n",
    "\n",
    "print(next(mygen)"
   ]
  }
 ],
 "metadata": {
  "language_info": {
   "name": "python"
  },
  "orig_nbformat": 4
 },
 "nbformat": 4,
 "nbformat_minor": 2
}
