{
 "cells": [
  {
   "cell_type": "code",
   "execution_count": 1,
   "metadata": {},
   "outputs": [
    {
     "data": {
      "text/plain": [
       "list"
      ]
     },
     "execution_count": 1,
     "metadata": {},
     "output_type": "execute_result"
    }
   ],
   "source": [
    "my_list =[1,2,3]\n",
    "\n",
    "\n",
    "type(my_list)\n"
   ]
  },
  {
   "cell_type": "code",
   "execution_count": 2,
   "metadata": {},
   "outputs": [
    {
     "data": {
      "text/plain": [
       "1661365257472"
      ]
     },
     "execution_count": 2,
     "metadata": {},
     "output_type": "execute_result"
    }
   ],
   "source": [
    "id(my_list)"
   ]
  },
  {
   "cell_type": "code",
   "execution_count": null,
   "metadata": {},
   "outputs": [],
   "source": []
  },
  {
   "cell_type": "code",
   "execution_count": 3,
   "metadata": {},
   "outputs": [],
   "source": [
    "my_list.append(4)"
   ]
  },
  {
   "cell_type": "code",
   "execution_count": 4,
   "metadata": {},
   "outputs": [
    {
     "data": {
      "text/plain": [
       "1661365257472"
      ]
     },
     "execution_count": 4,
     "metadata": {},
     "output_type": "execute_result"
    }
   ],
   "source": [
    "id(my_list)"
   ]
  },
  {
   "cell_type": "code",
   "execution_count": 5,
   "metadata": {},
   "outputs": [
    {
     "name": "stdout",
     "output_type": "stream",
     "text": [
      "my_var # = 2401897080752\n",
      "Initial s# = 2401897080752\n",
      "Final s # = 2401918165040\n",
      "my_var # = 2401897080752\n",
      "my_var hello\n"
     ]
    }
   ],
   "source": [
    "def process(s):\n",
    "    print('Initial s# = {0}'.format(id(s)))\n",
    "    s = s + ' world'\n",
    "    print('Final s # = {0}'.format(id(s)))\n",
    "    \n",
    "\n",
    "my_var = 'hello'\n",
    "\n",
    "\n",
    "print('my_var # = {0}'.format(id(my_var)))\n",
    "\n",
    "process(my_var)\n",
    "\n",
    "print('my_var # = {0}'.format(id(my_var)))\n",
    "\n",
    "print('my_var = ', my_var)\n",
    "\n",
    "\n",
    "\n",
    "          "
   ]
  },
  {
   "cell_type": "code",
   "execution_count": 7,
   "metadata": {},
   "outputs": [
    {
     "name": "stdout",
     "output_type": "stream",
     "text": [
      "my_lst # = 2401918194688\n",
      "Initial lst# = 2401918194688\n",
      "Final lst # = 2401918194688\n",
      "my_lst # = 2401918194688\n",
      "[10, 20, 30, 100]\n"
     ]
    }
   ],
   "source": [
    "def modify_list(lst):\n",
    "    print('Initial lst# = {0}'.format(id(lst)))\n",
    "    lst.append(100)\n",
    "    print('Final lst # = {0}'.format(id(lst)))\n",
    "\n",
    "my_list = [10, 20, 30 ] \n",
    "\n",
    "print('my_lst # = {0}'.format(id(my_list)))\n",
    "\n",
    "modify_list(my_list)\n",
    "\n",
    "print('my_lst # = {0}'.format(id(my_list)))\n",
    "\n",
    "print(my_list)\n"
   ]
  },
  {
   "cell_type": "code",
   "execution_count": 13,
   "metadata": {},
   "outputs": [
    {
     "name": "stdout",
     "output_type": "stream",
     "text": [
      "my_tuple # = 2401920693760\n",
      "Initial t# = 2401920693760\n",
      "Final t# = 2401920693760\n",
      "my_tuple # = 2401920693760\n",
      "my_tuple =  ([1, 10, 30], 's', 'a')\n"
     ]
    }
   ],
   "source": [
    "def modify_tuple(t):\n",
    "    print('Initial t# = {0}'.format(id(t)))\n",
    "    t[0].append(30)\n",
    "    \n",
    "    print('Final t# = {0}'.format(id(t)))\n",
    "\n",
    "\n",
    "my_tuple = ([1,10],'s', 'a')\n",
    "\n",
    "print('my_tuple # = {0}'.format(id(my_tuple)))\n",
    "\n",
    "modify_tuple(tuple(my_tuple))\n",
    "\n",
    "\n",
    "print('my_tuple # = {0}'.format(id(my_tuple)))\n",
    "\n",
    "print('my_tuple = ' , my_tuple)"
   ]
  },
  {
   "cell_type": "code",
   "execution_count": 16,
   "metadata": {},
   "outputs": [
    {
     "name": "stdout",
     "output_type": "stream",
     "text": [
      "<class 'int'>\n",
      "10\n"
     ]
    }
   ],
   "source": [
    "a = int(10)\n",
    "\n",
    "print(type(a))\n",
    "\n",
    "print(a)"
   ]
  },
  {
   "cell_type": "code",
   "execution_count": 19,
   "metadata": {},
   "outputs": [
    {
     "name": "stdout",
     "output_type": "stream",
     "text": [
      "0\n",
      "10\n"
     ]
    }
   ],
   "source": [
    "c = int()\n",
    "\n",
    "print(c)\n",
    "\n",
    "c = int('101', base=3)\n",
    "print(c)"
   ]
  },
  {
   "cell_type": "code",
   "execution_count": 29,
   "metadata": {},
   "outputs": [
    {
     "name": "stdout",
     "output_type": "stream",
     "text": [
      "512\n"
     ]
    },
    {
     "data": {
      "text/plain": [
       "'f = getfuncbyid (2)'"
      ]
     },
     "execution_count": 29,
     "metadata": {},
     "output_type": "execute_result"
    }
   ],
   "source": [
    "def square(a):\n",
    "    return a*a\n",
    "\n",
    "def cube(a):\n",
    "    return a*a*a\n",
    "\n",
    "\n",
    "\n",
    "def getfuncbyid(func_id):\n",
    "\n",
    "\n",
    "    if func_id == 1:\n",
    "        return square\n",
    "    else: \n",
    "        return cube\n",
    "    \n",
    "\n",
    "\n",
    "def exec_function(fn, n):\n",
    "  return fn(n)\n",
    "\n",
    "\n",
    "print(exec_function(cube,8))\n",
    "\n",
    "'''f = getfuncbyid (2)'''\n",
    "\n",
    " \n",
    "\n",
    "\n",
    "\n",
    " \n",
    "\n",
    " \n",
    "\n"
   ]
  },
  {
   "attachments": {},
   "cell_type": "markdown",
   "metadata": {},
   "source": [
    "\n"
   ]
  },
  {
   "cell_type": "code",
   "execution_count": 33,
   "metadata": {},
   "outputs": [
    {
     "name": "stdout",
     "output_type": "stream",
     "text": [
      "2401920827968\n",
      "2401920827968\n",
      "2401920987840\n"
     ]
    }
   ],
   "source": [
    "\n",
    "list1 = [1, 2, 3 ]\n",
    "\n",
    "print(id(list1))\n",
    "\n",
    "list1.append(30)\n",
    "\n",
    "print(id(list1))\n",
    "\n",
    "\n",
    "list1 = [4, 5, 6]\n",
    "\n",
    "\n",
    "print(id(list1))\n",
    "\n",
    "\n",
    "\n"
   ]
  },
  {
   "cell_type": "code",
   "execution_count": 40,
   "metadata": {},
   "outputs": [
    {
     "ename": "KeyboardInterrupt",
     "evalue": "",
     "output_type": "error",
     "traceback": [
      "\u001b[1;31m---------------------------------------------------------------------------\u001b[0m",
      "\u001b[1;31mKeyboardInterrupt\u001b[0m                         Traceback (most recent call last)",
      "Cell \u001b[1;32mIn[40], line 12\u001b[0m\n\u001b[0;32m      6\u001b[0m         \u001b[39m2\u001b[39m \u001b[39m*\u001b[39m \u001b[39m50\u001b[39m\n\u001b[0;32m      9\u001b[0m start \u001b[39m=\u001b[39m  time\u001b[39m.\u001b[39mperf_counter()\n\u001b[1;32m---> 12\u001b[0m calculate(\u001b[39m2\u001b[39;49m\u001b[39m*\u001b[39;49m\u001b[39m*\u001b[39;49m\u001b[39m1000\u001b[39;49m)\n\u001b[0;32m     15\u001b[0m end \u001b[39m=\u001b[39m   time\u001b[39m.\u001b[39mperf_counter()\n\u001b[0;32m     18\u001b[0m \u001b[39mprint\u001b[39m(\u001b[39m\"\u001b[39m\u001b[39mduration = \u001b[39m\u001b[39m\"\u001b[39m, end  \u001b[39m-\u001b[39m start)\n",
      "Cell \u001b[1;32mIn[40], line 6\u001b[0m, in \u001b[0;36mcalculate\u001b[1;34m(n)\u001b[0m\n\u001b[0;32m      3\u001b[0m \u001b[39mdef\u001b[39;00m \u001b[39mcalculate\u001b[39m(n):\n\u001b[0;32m      5\u001b[0m     \u001b[39mfor\u001b[39;00m i \u001b[39min\u001b[39;00m \u001b[39mrange\u001b[39m(\u001b[39m1\u001b[39m,n):\n\u001b[1;32m----> 6\u001b[0m         \u001b[39m2\u001b[39m \u001b[39m*\u001b[39m \u001b[39m50\u001b[39m\n",
      "\u001b[1;31mKeyboardInterrupt\u001b[0m: "
     ]
    }
   ],
   "source": [
    "import time\n",
    "\n",
    "def calculate(n):\n",
    "\n",
    "    for i in range(1,n):\n",
    "        2 * 50\n",
    "\n",
    "\n",
    "start =  time.perf_counter()\n",
    " \n",
    "\n",
    "calculate(2**1000)\n",
    "\n",
    "\n",
    "end =   time.perf_counter()\n",
    "\n",
    "\n",
    "print(\"duration = \", end  - start)\n",
    "\n"
   ]
  }
 ],
 "metadata": {
  "kernelspec": {
   "display_name": "Python 3",
   "language": "python",
   "name": "python3"
  },
  "language_info": {
   "codemirror_mode": {
    "name": "ipython",
    "version": 3
   },
   "file_extension": ".py",
   "mimetype": "text/x-python",
   "name": "python",
   "nbconvert_exporter": "python",
   "pygments_lexer": "ipython3",
   "version": "3.11.5"
  },
  "orig_nbformat": 4
 },
 "nbformat": 4,
 "nbformat_minor": 2
}
