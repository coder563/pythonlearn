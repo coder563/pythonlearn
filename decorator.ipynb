{
 "cells": [
  {
   "cell_type": "code",
   "execution_count": 11,
   "metadata": {},
   "outputs": [
    {
     "name": "stdout",
     "output_type": "stream",
     "text": [
      "add called 1 times\n",
      "3\n"
     ]
    }
   ],
   "source": [
    "def counter(fn):\n",
    "    \n",
    "    timescalled =0 \n",
    "    def count_functions():\n",
    "        nonlocal timescalled\n",
    "        timescalled+=1\n",
    "        print(f'add called {timescalled} times')\n",
    "        return fn\n",
    "    return count_functions()\n",
    "\n",
    "def add(a,b:int ):\n",
    "    return a+b\n",
    "\n",
    "\n",
    "add = counter(add)\n",
    "\n",
    "result = add(1,2)\n",
    "print(result)\n",
    "\n",
    "\n",
    "\n",
    "\n",
    "\n"
   ]
  }
 ],
 "metadata": {
  "kernelspec": {
   "display_name": "Python 3",
   "language": "python",
   "name": "python3"
  },
  "language_info": {
   "codemirror_mode": {
    "name": "ipython",
    "version": 3
   },
   "file_extension": ".py",
   "mimetype": "text/x-python",
   "name": "python",
   "nbconvert_exporter": "python",
   "pygments_lexer": "ipython3",
   "version": "3.11.5"
  },
  "orig_nbformat": 4
 },
 "nbformat": 4,
 "nbformat_minor": 2
}
